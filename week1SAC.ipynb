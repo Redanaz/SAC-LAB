{
 "cells": [
  {
   "cell_type": "code",
   "execution_count": 1,
   "id": "592c3815",
   "metadata": {},
   "outputs": [
    {
     "name": "stdout",
     "output_type": "stream",
     "text": [
      "Python 3.11.4\n"
     ]
    }
   ],
   "source": [
    "!python --version"
   ]
  },
  {
   "cell_type": "code",
   "execution_count": 3,
   "id": "3cee830f",
   "metadata": {},
   "outputs": [
    {
     "name": "stdout",
     "output_type": "stream",
     "text": [
      "hi--how are you doing?\n"
     ]
    }
   ],
   "source": [
    "print(\"hi\",\"how are you doing?\",sep=\"--\")"
   ]
  },
  {
   "cell_type": "code",
   "execution_count": null,
   "id": "8a623436",
   "metadata": {},
   "outputs": [],
   "source": [
    "print(\"hello\",end)"
   ]
  }
 ],
 "metadata": {
  "kernelspec": {
   "display_name": "Python 3 (ipykernel)",
   "language": "python",
   "name": "python3"
  },
  "language_info": {
   "codemirror_mode": {
    "name": "ipython",
    "version": 3
   },
   "file_extension": ".py",
   "mimetype": "text/x-python",
   "name": "python",
   "nbconvert_exporter": "python",
   "pygments_lexer": "ipython3",
   "version": "3.11.4"
  }
 },
 "nbformat": 4,
 "nbformat_minor": 5
}
