{
 "cells": [
  {
   "cell_type": "code",
   "execution_count": 1,
   "id": "a7c776de",
   "metadata": {},
   "outputs": [
    {
     "name": "stdout",
     "output_type": "stream",
     "text": [
      "Enter your name: Reda Naz\n",
      "Welcome  Reda Naz\n"
     ]
    }
   ],
   "source": [
    "name=input(\"Enter your name: \")\n",
    "print(\"Welcome \",name)"
   ]
  },
  {
   "cell_type": "code",
   "execution_count": 2,
   "id": "373739de",
   "metadata": {},
   "outputs": [
    {
     "name": "stdout",
     "output_type": "stream",
     "text": [
      "Enter the value of a: 2\n",
      "Enter the value of b: 4\n",
      "24\n"
     ]
    }
   ],
   "source": [
    "a=input(\"Enter the value of a: \")\n",
    "b=input(\"Enter the value of b: \")\n",
    "print(a+b)"
   ]
  },
  {
   "cell_type": "code",
   "execution_count": 3,
   "id": "5a1e616a",
   "metadata": {},
   "outputs": [
    {
     "name": "stdout",
     "output_type": "stream",
     "text": [
      "Enter the value of a: 7\n",
      "Enter the value of b: 8\n",
      "15\n"
     ]
    }
   ],
   "source": [
    "a=int(input(\"Enter the value of a: \"))\n",
    "b=int(input(\"Enter the value of b: \"))\n",
    "print(a+b)"
   ]
  },
  {
   "cell_type": "code",
   "execution_count": 4,
   "id": "09600391",
   "metadata": {},
   "outputs": [
    {
     "name": "stdout",
     "output_type": "stream",
     "text": [
      "What is your passion?Coding\n",
      "Coding is my passion\n"
     ]
    }
   ],
   "source": [
    "passion=input(\"What is your passion?\")\n",
    "print(\"{0} is my passion\".format(passion))"
   ]
  },
  {
   "cell_type": "code",
   "execution_count": 5,
   "id": "5e8a943d",
   "metadata": {},
   "outputs": [
    {
     "name": "stdout",
     "output_type": "stream",
     "text": [
      "Enter your name: Reda\n",
      "Enter your roll number: 4085\n",
      "Reda is my name. My roll number is 4085\n"
     ]
    }
   ],
   "source": [
    "name=input(\"Enter your name: \")\n",
    "rollno=int(input(\"Enter your roll number: \"))\n",
    "print(\"{0} is my name. My roll number is {1}\".format(name,rollno))"
   ]
  },
  {
   "cell_type": "code",
   "execution_count": 6,
   "id": "2b7035b2",
   "metadata": {},
   "outputs": [
    {
     "name": "stdout",
     "output_type": "stream",
     "text": [
      "The values of a is 10 and b is 20\n",
      "The values of a is 20 and b is 10\n"
     ]
    }
   ],
   "source": [
    "#positional change of indexes of arguments\n",
    "a=10\n",
    "b=20\n",
    "print(\"The values of a is {0} and b is {1}\".format(a,b))\n",
    "print(\"The values of a is {1} and b is {0}\".format(a,b))"
   ]
  },
  {
   "cell_type": "code",
   "execution_count": 7,
   "id": "f47e1090",
   "metadata": {},
   "outputs": [
    {
     "name": "stdout",
     "output_type": "stream",
     "text": [
      "You can do the impossible. Never ever give up.\n"
     ]
    }
   ],
   "source": [
    "print(\"You can do the {a}. {b}\".format(a=\"impossible\",b=\"Never ever give up.\"))"
   ]
  },
  {
   "cell_type": "code",
   "execution_count": 8,
   "id": "d43a1dc4",
   "metadata": {},
   "outputs": [
    {
     "name": "stdout",
     "output_type": "stream",
     "text": [
      "addition of 20 and 30 is 50\n"
     ]
    }
   ],
   "source": [
    "a=20\n",
    "b=30\n",
    "print(f\"addition of {a} and {b} is {a+b}\")"
   ]
  },
  {
   "cell_type": "code",
   "execution_count": 11,
   "id": "625697cd",
   "metadata": {},
   "outputs": [
    {
     "name": "stdout",
     "output_type": "stream",
     "text": [
      "Enter the radius of the circle: 48\n",
      "The area of cirle is 7238.016\n",
      "The circumference of circle is 301.584\n"
     ]
    }
   ],
   "source": [
    "radius=int(input(\"Enter the radius of the circle: \"))\n",
    "area_of_circle=3.1415*radius*radius\n",
    "circumference=2*3.1415*radius\n",
    "print(f\"The area of cirle is {area_of_circle}\")\n",
    "print(f\"The circumference of circle is {circumference}\")"
   ]
  },
  {
   "cell_type": "code",
   "execution_count": 15,
   "id": "bb7e4862",
   "metadata": {},
   "outputs": [
    {
     "name": "stdout",
     "output_type": "stream",
     "text": [
      "Enter your birth year:2007\n",
      "You are 18 years old\n"
     ]
    }
   ],
   "source": [
    "birth_year=int(input(\"Enter your birth year:\"))\n",
    "current_year=2025\n",
    "age=current_year-birth_year\n",
    "print(f\"You are {age} years old\")"
   ]
  },
  {
   "cell_type": "code",
   "execution_count": 16,
   "id": "d62c4a87",
   "metadata": {},
   "outputs": [
    {
     "name": "stdout",
     "output_type": "stream",
     "text": [
      "Enter your cgpa: 9.61\n",
      "Topper\n"
     ]
    }
   ],
   "source": [
    "cgpa=float(input(\"Enter your cgpa: \"))\n",
    "if cgpa>9.2:\n",
    "    print(\"Topper\")\n",
    "elif cgpa>8 and cgpa<9.2:\n",
    "    print(\"Good in academics\")\n",
    "else:\n",
    "    print(\"Work hard\")"
   ]
  },
  {
   "cell_type": "code",
   "execution_count": 25,
   "id": "229baf47",
   "metadata": {},
   "outputs": [
    {
     "name": "stdout",
     "output_type": "stream",
     "text": [
      "Enter total marks: 25\n",
      "Enter the marks obtained: 21\n",
      "Exact percentage:84.0%\n",
      "Whole percentage shown on report:84%\n"
     ]
    }
   ],
   "source": [
    "total_marks=int(input(\"Enter total marks: \"))\n",
    "marks_obtained=int(input(\"Enter the marks obtained: \"))\n",
    "percentage=(marks_obtained/total_marks)*100\n",
    "whole_percentage=int(percentage)\n",
    "\n",
    "print(f\"Exact percentage:{percentage}%\")\n",
    "print(f\"Whole percentage shown on report:{whole_percentage}%\")"
   ]
  },
  {
   "cell_type": "code",
   "execution_count": 26,
   "id": "c8b88f4a",
   "metadata": {},
   "outputs": [
    {
     "ename": "TypeError",
     "evalue": "can only concatenate str (not \"int\") to str",
     "output_type": "error",
     "traceback": [
      "\u001b[1;31m---------------------------------------------------------------------------\u001b[0m",
      "\u001b[1;31mTypeError\u001b[0m                                 Traceback (most recent call last)",
      "Cell \u001b[1;32mIn[26], line 2\u001b[0m\n\u001b[0;32m      1\u001b[0m age\u001b[38;5;241m=\u001b[39m\u001b[38;5;241m25\u001b[39m\n\u001b[1;32m----> 2\u001b[0m \u001b[38;5;28mprint\u001b[39m(\u001b[38;5;124m\"\u001b[39m\u001b[38;5;124mI am \u001b[39m\u001b[38;5;124m\"\u001b[39m\u001b[38;5;241m+\u001b[39mage\u001b[38;5;241m+\u001b[39m\u001b[38;5;124m\"\u001b[39m\u001b[38;5;124m years old\u001b[39m\u001b[38;5;124m\"\u001b[39m)\n",
      "\u001b[1;31mTypeError\u001b[0m: can only concatenate str (not \"int\") to str"
     ]
    }
   ],
   "source": [
    "age=25\n",
    "print(\"I am \"+age+\" years old\")"
   ]
  },
  {
   "cell_type": "code",
   "execution_count": 28,
   "id": "b5823894",
   "metadata": {},
   "outputs": [
    {
     "name": "stdout",
     "output_type": "stream",
     "text": [
      "I am 25 years old.\n"
     ]
    }
   ],
   "source": [
    "age=25\n",
    "print(\"I am \"+str(age)+\" years old.\")"
   ]
  },
  {
   "cell_type": "code",
   "execution_count": 29,
   "id": "7aef1790",
   "metadata": {},
   "outputs": [
    {
     "name": "stdout",
     "output_type": "stream",
     "text": [
      "Enter an integer between 0 and 255: 50\n",
      "The ASCII character for 50 is:2\n"
     ]
    }
   ],
   "source": [
    "num=int(input(\"Enter an integer between 0 and 255: \"))\n",
    "char=chr(num)\n",
    "print(f\"The ASCII character for {num} is:{char}\")"
   ]
  },
  {
   "cell_type": "code",
   "execution_count": 30,
   "id": "f972b63c",
   "metadata": {},
   "outputs": [
    {
     "name": "stdout",
     "output_type": "stream",
     "text": [
      "Complex number (real+imag): (3+4j)\n"
     ]
    }
   ],
   "source": [
    "c=complex(3,4)\n",
    "print(\"Complex number (real+imag):\",c)"
   ]
  },
  {
   "cell_type": "code",
   "execution_count": null,
   "id": "272cc891",
   "metadata": {},
   "outputs": [],
   "source": []
  }
 ],
 "metadata": {
  "kernelspec": {
   "display_name": "Python 3 (ipykernel)",
   "language": "python",
   "name": "python3"
  },
  "language_info": {
   "codemirror_mode": {
    "name": "ipython",
    "version": 3
   },
   "file_extension": ".py",
   "mimetype": "text/x-python",
   "name": "python",
   "nbconvert_exporter": "python",
   "pygments_lexer": "ipython3",
   "version": "3.11.4"
  }
 },
 "nbformat": 4,
 "nbformat_minor": 5
}
